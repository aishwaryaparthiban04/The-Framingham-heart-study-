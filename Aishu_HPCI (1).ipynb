{
  "nbformat": 4,
  "nbformat_minor": 0,
  "metadata": {
    "colab": {
      "name": "Laxmi_HPCI.ipynb",
      "provenance": [],
      "collapsed_sections": []
    },
    "kernelspec": {
      "name": "python3",
      "display_name": "Python 3"
    },
    "language_info": {
      "name": "python"
    }
  },
  "cells": [
    {
      "cell_type": "code",
      "execution_count": null,
      "metadata": {
        "colab": {
          "base_uri": "https://localhost:8080/"
        },
        "id": "JkdSiRgnjflI",
        "outputId": "95fd9764-cdad-4ddd-f582-99bdb2246d2f"
      },
      "outputs": [
        {
          "output_type": "stream",
          "name": "stdout",
          "text": [
            "Requirement already satisfied: pyspark in /usr/local/lib/python3.7/dist-packages (3.2.1)\n",
            "Requirement already satisfied: py4j==0.10.9.3 in /usr/local/lib/python3.7/dist-packages (from pyspark) (0.10.9.3)\n",
            "Requirement already satisfied: findspark in /usr/local/lib/python3.7/dist-packages (2.0.1)\n"
          ]
        }
      ],
      "source": [
        " !pip install pyspark\n",
        " !pip install findspark"
      ]
    },
    {
      "cell_type": "code",
      "source": [
        "from pyspark.sql import SparkSession\n",
        "spark = SparkSession.builder\\\n",
        "        .master(\"local\")\\\n",
        "        .appName(\"Colab\")\\\n",
        "        .config('spark.ui.port', '4050')\\\n",
        "        .getOrCreate()"
      ],
      "metadata": {
        "id": "FBRecK1Pj4fk"
      },
      "execution_count": null,
      "outputs": []
    },
    {
      "cell_type": "code",
      "source": [
        "spark"
      ],
      "metadata": {
        "colab": {
          "base_uri": "https://localhost:8080/",
          "height": 219
        },
        "id": "5YLC4_4uj4ij",
        "outputId": "e8343c51-b311-4298-d23e-bc53ec1643bd"
      },
      "execution_count": null,
      "outputs": [
        {
          "output_type": "execute_result",
          "data": {
            "text/plain": [
              "<pyspark.sql.session.SparkSession at 0x7fb8d9db10d0>"
            ],
            "text/html": [
              "\n",
              "            <div>\n",
              "                <p><b>SparkSession - in-memory</b></p>\n",
              "                \n",
              "        <div>\n",
              "            <p><b>SparkContext</b></p>\n",
              "\n",
              "            <p><a href=\"http://45bf566d5b39:4050\">Spark UI</a></p>\n",
              "\n",
              "            <dl>\n",
              "              <dt>Version</dt>\n",
              "                <dd><code>v3.2.1</code></dd>\n",
              "              <dt>Master</dt>\n",
              "                <dd><code>local</code></dd>\n",
              "              <dt>AppName</dt>\n",
              "                <dd><code>Colab</code></dd>\n",
              "            </dl>\n",
              "        </div>\n",
              "        \n",
              "            </div>\n",
              "        "
            ]
          },
          "metadata": {},
          "execution_count": 3
        }
      ]
    },
    {
      "cell_type": "code",
      "source": [
        ""
      ],
      "metadata": {
        "id": "k3RfEgLGqfdm"
      },
      "execution_count": null,
      "outputs": []
    },
    {
      "cell_type": "code",
      "source": [
        "import matplotlib.pyplot as plt \n",
        "from pyspark import SparkConf, SparkContext\n",
        "from pyspark.sql import SparkSession, SQLContext\n",
        "from pyspark.ml.feature import OneHotEncoder, StringIndexer, VectorAssembler\n",
        "\n",
        "from pyspark.sql.types import *\n",
        "import pyspark.sql.functions as f\n",
        "from pyspark.sql.functions import col,sum\n",
        "import seaborn as sns\n",
        "from pyspark.ml import Pipeline\n",
        "from pyspark.sql.functions import udf\n",
        "\n",
        "from pyspark.sql.types import IntegerType\n",
        "import warnings\n",
        "warnings.filterwarnings(\"ignore\")\n",
        "\n",
        "sc = SparkContext.getOrCreate()"
      ],
      "metadata": {
        "id": "236RZPtSkEBW"
      },
      "execution_count": null,
      "outputs": []
    },
    {
      "cell_type": "code",
      "source": [
        "data = spark.read.csv('clean_framingham.csv', header=True)"
      ],
      "metadata": {
        "id": "LHLyzEuXj_oQ"
      },
      "execution_count": null,
      "outputs": []
    },
    {
      "cell_type": "code",
      "source": [
        "data.show(5)"
      ],
      "metadata": {
        "colab": {
          "base_uri": "https://localhost:8080/"
        },
        "id": "tAs3lBKnj_sQ",
        "outputId": "7340a320-aaee-4124-c414-0bd17627956c"
      },
      "execution_count": null,
      "outputs": [
        {
          "output_type": "stream",
          "name": "stdout",
          "text": [
            "+---+----+---+---------+-------------+----------+------+---------------+------------+--------+-------+-----+-----+-----+---------+-------+----------+\n",
            "|_c0|male|age|education|currentSmoker|cigsPerDay|BPMeds|prevalentStroke|prevalentHyp|diabetes|totChol|sysBP|diaBP|  BMI|heartRate|glucose|TenYearCHD|\n",
            "+---+----+---+---------+-------------+----------+------+---------------+------------+--------+-------+-----+-----+-----+---------+-------+----------+\n",
            "|  1|   1| 39|        4|            0|         0|     0|              0|           0|       0|    195|  106|   70|26.97|       80|     77|         0|\n",
            "|  2|   0| 46|        2|            0|         0|     0|              0|           0|       0|    250|  121|   81|28.73|       95|     76|         0|\n",
            "|  3|   1| 48|        1|            1|        20|     0|              0|           0|       0|    245|127.5|   80|25.34|       75|     70|         0|\n",
            "|  4|   0| 61|        3|            1|        30|     0|              0|           1|       0|    225|  150|   95|28.58|       65|    103|         1|\n",
            "|  5|   0| 46|        3|            1|        23|     0|              0|           0|       0|    285|  130|   84| 23.1|       85|     85|         0|\n",
            "+---+----+---+---------+-------------+----------+------+---------------+------------+--------+-------+-----+-----+-----+---------+-------+----------+\n",
            "only showing top 5 rows\n",
            "\n"
          ]
        }
      ]
    },
    {
      "cell_type": "code",
      "source": [
        "data.printSchema()"
      ],
      "metadata": {
        "colab": {
          "base_uri": "https://localhost:8080/"
        },
        "id": "SND5-xdij_wM",
        "outputId": "4466740e-5d43-41c8-9393-8531db960c91"
      },
      "execution_count": null,
      "outputs": [
        {
          "output_type": "stream",
          "name": "stdout",
          "text": [
            "root\n",
            " |-- _c0: string (nullable = true)\n",
            " |-- male: string (nullable = true)\n",
            " |-- age: string (nullable = true)\n",
            " |-- education: string (nullable = true)\n",
            " |-- currentSmoker: string (nullable = true)\n",
            " |-- cigsPerDay: string (nullable = true)\n",
            " |-- BPMeds: string (nullable = true)\n",
            " |-- prevalentStroke: string (nullable = true)\n",
            " |-- prevalentHyp: string (nullable = true)\n",
            " |-- diabetes: string (nullable = true)\n",
            " |-- totChol: string (nullable = true)\n",
            " |-- sysBP: string (nullable = true)\n",
            " |-- diaBP: string (nullable = true)\n",
            " |-- BMI: string (nullable = true)\n",
            " |-- heartRate: string (nullable = true)\n",
            " |-- glucose: string (nullable = true)\n",
            " |-- TenYearCHD: string (nullable = true)\n",
            "\n"
          ]
        }
      ]
    },
    {
      "cell_type": "code",
      "source": [
        "#dropping irrelevant columns\n",
        "data=data.drop('_c0')\n",
        "names=data.columns\n",
        "\n"
      ],
      "metadata": {
        "id": "rA1-Bzxwj_zC"
      },
      "execution_count": null,
      "outputs": []
    },
    {
      "cell_type": "code",
      "source": [
        "# numerical and categorical\n",
        "\n",
        "num_cols = [\"age\",\"BMI\", \"cigsPerDay\",\"diaBP\",\"heartRate\", \"glucose\",\n",
        "              \"totChol\",\"sysBP\"]\n",
        "cat_cols=[\"male\",\"education\",\"BPMeds\",\"currentSmoker\",\"prevalentStroke\",\"prevalentHyp\",\"diabetes\"]\n",
        "\n",
        "for column in num_cols:\n",
        "    data = data.withColumn(column,f.col(column).cast(IntegerType())) "
      ],
      "metadata": {
        "id": "_OWwyjsLj_13"
      },
      "execution_count": null,
      "outputs": []
    },
    {
      "cell_type": "code",
      "source": [
        "\n"
      ],
      "metadata": {
        "id": "OfSsjJMXyNzi"
      },
      "execution_count": null,
      "outputs": []
    },
    {
      "cell_type": "code",
      "source": [
        "pipes = []\n",
        "\n",
        "for categoricalCol in cat_cols:\n",
        "    sIndex = StringIndexer(inputCol = categoricalCol, outputCol = categoricalCol + 'Index')\n",
        "    enc = OneHotEncoder(inputCols=[sIndex.getOutputCol()], outputCols=[categoricalCol + \"nums\"])\n",
        "    pipes += [sIndex, enc]\n",
        "\n",
        "target_ids = StringIndexer(inputCol = 'TenYearCHD', outputCol = 'target')\n",
        "pipes += [target_ids]\n",
        "\n",
        "asINP = [a + \"nums\" for a in cat_cols] + num_cols\n",
        "combine = VectorAssembler(inputCols=asINP, outputCol=\"features\")\n",
        "pipes += [combine]"
      ],
      "metadata": {
        "id": "BOeICKsGj_4c"
      },
      "execution_count": null,
      "outputs": []
    },
    {
      "cell_type": "code",
      "source": [
        "stag = Pipeline(stages = pipes)\n",
        "model = stag.fit(data)\n",
        "data = model.transform(data)\n",
        "\n",
        "comb = ['target', 'features'] \n",
        "data = data.select(comb)"
      ],
      "metadata": {
        "id": "pdRTUbGgnwZ9"
      },
      "execution_count": null,
      "outputs": []
    },
    {
      "cell_type": "code",
      "source": [
        "data=data.toPandas()\n",
        "\n",
        "data['target'] = (data['target']).astype(int)\n",
        "\n",
        "data=spark.createDataFrame(data) "
      ],
      "metadata": {
        "id": "9uSJHJETzSRa"
      },
      "execution_count": null,
      "outputs": []
    },
    {
      "cell_type": "code",
      "source": [
        "import time\n",
        "from sys import argv\n",
        "from pyspark.sql import SparkSession\n",
        "from pyspark.ml.feature import PCA\n",
        "from pyspark.ml.feature import VectorAssembler\n",
        "from pyspark.sql import functions\n",
        "import numpy as np\n",
        "from pyspark.sql.functions import udf\n",
        "from pyspark.sql.types import IntegerType, DoubleType\n",
        "import matplotlib.pyplot as plt\n",
        "from numpy import sum, sqrt\n",
        "from pyspark import SparkContext"
      ],
      "metadata": {
        "id": "kI4w2S7YwznD"
      },
      "execution_count": null,
      "outputs": []
    },
    {
      "cell_type": "code",
      "source": [
        "train, test = data.randomSplit([0.75, 0.25], seed = 2022)"
      ],
      "metadata": {
        "id": "q2RghbOZpFPi"
      },
      "execution_count": null,
      "outputs": []
    },
    {
      "cell_type": "code",
      "source": [
        "from pyspark.ml.feature import PCA\n",
        "import numpy as np\n",
        "\n",
        "\n",
        "\n",
        "pca = PCA(k=3, inputCol='features', outputCol='pca') \n",
        "model = pca.fit(test)\n",
        "train_data = model.transform(train).select('target', 'pca')\n",
        "test_data = model.transform(test).select('target', 'pca')\n",
        "\n",
        "\n",
        "\n"
      ],
      "metadata": {
        "id": "S5yQk4sKpeHk"
      },
      "execution_count": null,
      "outputs": []
    },
    {
      "cell_type": "code",
      "source": [
        "train_matrix = []\n",
        "train_label = []\n",
        "train_rows = train_data.rdd.collect()\n",
        "for i in train_rows:\n",
        "    train_matrix.append(i.pca)\n",
        "    train_label.append(i.target)\n",
        "\n",
        "train_label = sc.broadcast(np.array(train_label)) \n",
        "train_matrix = sc.broadcast(np.array(train_matrix))"
      ],
      "metadata": {
        "id": "2a3Hw9xOxA64"
      },
      "execution_count": null,
      "outputs": []
    },
    {
      "cell_type": "code",
      "source": [
        "%%time\n",
        "from numpy import sum, sqrt\n",
        "\n",
        "K=11\n",
        "\n",
        "def knnPred(line):\n",
        "    pca = line\n",
        "    cal = sqrt(sum((train_matrix.value - np.tile(pca,(len(train_matrix.value),1)))**2, axis=1)) # Calculate the Euclidean Distance\n",
        "    cal = np.argsort(cal)        # return the index of The List of Distance in ascending order. Save the sorting time and cut down half of the runing time\n",
        "    pred_label_list = train_label.value[cal][:K] # return the K nearest neibourages' label\n",
        "    pred_label = np.bincount(pred_label_list).argmax() # return the label with max appearance\n",
        "    return  int(pred_label)\n",
        "\n",
        "knn_udf = udf(knnPred, IntegerType()) #user define function\n"
      ],
      "metadata": {
        "id": "uU5Un3JMqVja"
      },
      "execution_count": null,
      "outputs": []
    },
    {
      "cell_type": "code",
      "source": [
        "def confusion_matrix(test_true, test_pred,class_list):\n",
        "    num_class_list = len(class_list)\n",
        "    confusion_matrix = np.zeros((num_class_list, num_class_list))\n",
        "    match_count = 0\n",
        "    n_test = len(test_true)\n",
        "    for k in range(n_test):\n",
        "        cm_j = class_list.index(test_pred[k])\n",
        "        cm_i = class_list.index(test_true[k])\n",
        "        confusion_matrix[cm_i, cm_j] += 1\n",
        "        if test_pred[k] == test_true[k]:\n",
        "            match = True\n",
        "            match_count += 1    \n",
        "        else:\n",
        "            match = False\n",
        "    return confusion_matrix"
      ],
      "metadata": {
        "id": "JckHa_pGq_Kv"
      },
      "execution_count": null,
      "outputs": []
    },
    {
      "cell_type": "code",
      "source": [
        "def precision(label, confusion_matrix):\n",
        "    col = confusion_matrix[:, label]\n",
        "    return confusion_matrix[label, label] / col.sum()\n",
        "def recall(label, confusion_matrix):\n",
        "    row = confusion_matrix[label, :]\n",
        "    return confusion_matrix[label, label] / row.sum()\n",
        "def f1_score(label, confusion_matrix):\n",
        "    row = confusion_matrix[label, :]\n",
        "    col = confusion_matrix[:, label]\n",
        "    return confusion_matrix[label, label]*2 / (row.sum()+col.sum())\n",
        "\n",
        "def accuracy(confusion_matrix):\n",
        "    diagonal_sum = confusion_matrix.trace()\n",
        "    sum_of_all_elements = confusion_matrix.sum()\n",
        "    return diagonal_sum / sum_of_all_elements "
      ],
      "metadata": {
        "id": "wwKpJY37rC5C"
      },
      "execution_count": null,
      "outputs": []
    },
    {
      "cell_type": "code",
      "source": [
        "pred = test_data.withColumn(\"pred_label\",knn_udf(test_data.pca)) \n",
        "\n",
        "label_list = pred.select('pred_label','target').collect()\n",
        "pred_label=[]\n",
        "real_label=[]\n",
        "for i in label_list:\n",
        "    pred_label.append(i.pred_label)\n",
        "    real_label.append(i.target)"
      ],
      "metadata": {
        "id": "ZA2w_CaprG87"
      },
      "execution_count": null,
      "outputs": []
    },
    {
      "cell_type": "code",
      "source": [
        "pred"
      ],
      "metadata": {
        "colab": {
          "base_uri": "https://localhost:8080/"
        },
        "id": "3o27p8mjrmb8",
        "outputId": "012d0b95-82eb-42f3-9d06-609a998bd4e2"
      },
      "execution_count": null,
      "outputs": [
        {
          "output_type": "execute_result",
          "data": {
            "text/plain": [
              "DataFrame[target: bigint, pca: vector, pred_label: int]"
            ]
          },
          "metadata": {},
          "execution_count": 43
        }
      ]
    },
    {
      "cell_type": "code",
      "source": [
        "full_class_list = [0,1]\n",
        "cm = np.array(confusion_matrix(real_label,pred_label,full_class_list)).astype(int)\n",
        "print('\\n')\n",
        "print(\"Confusion Matrix\")\n",
        "print(cm)\n",
        "print('\\n')\n",
        "print(\"label precision recall f1-score\")\n",
        "pc=[]\n",
        "rc=[]\n",
        "f1=[]\n",
        "sp=[]\n",
        "for label in full_class_list:\n",
        "    pc.append(precision(label, cm.astype(float)))\n",
        "    rc.append(recall(label, cm.astype(float)))\n",
        "    f1.append(f1_score(label,cm.astype(float)))\n",
        "\n",
        "print(\"average  {:6.3f} {:6.3f} {:6.3f}\".format(sum(pc)/len(full_class_list),sum(rc)/len(full_class_list),sum(f1)/len(full_class_list)))\n",
        "print('\\n')\n",
        "acc = accuracy(cm.astype(float))\n",
        "print('Accuracy: {}%'.format(round(acc*100,3)))\n",
        "print('\\n')"
      ],
      "metadata": {
        "colab": {
          "base_uri": "https://localhost:8080/"
        },
        "id": "QtPve3JesaL0",
        "outputId": "f44151c3-11ed-445a-f32f-3895fdcf5469"
      },
      "execution_count": null,
      "outputs": [
        {
          "output_type": "stream",
          "name": "stdout",
          "text": [
            "\n",
            "\n",
            "Confusion Matrix\n",
            "[[795   6]\n",
            " [133   0]]\n",
            "\n",
            "\n",
            "label precision recall f1-score\n",
            "average   0.428  0.496  0.460\n",
            "\n",
            "\n",
            "Accuracy: 85.118%\n",
            "\n",
            "\n"
          ]
        }
      ]
    },
    {
      "cell_type": "code",
      "source": [
        ""
      ],
      "metadata": {
        "id": "o7IpNz_hz0Y8"
      },
      "execution_count": null,
      "outputs": []
    }
  ]
}